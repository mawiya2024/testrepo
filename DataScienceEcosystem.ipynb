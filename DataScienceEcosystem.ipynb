{
 "cells": [
  {
   "cell_type": "markdown",
   "id": "52a6f8cb-45d6-45e3-9713-1cbe4e31a16e",
   "metadata": {},
   "source": [
    "# DataScience Tools and Ecosystem"
   ]
  },
  {
   "cell_type": "markdown",
   "id": "dcbecf29-f7e4-469e-a356-c6bdc2085c9f",
   "metadata": {},
   "source": [
    "In this notebook, Data Science Tools and Ecosystem are summarized."
   ]
  },
  {
   "cell_type": "markdown",
   "id": "c9abb165-8ad9-4323-858f-7281bcb99750",
   "metadata": {},
   "source": [
    "**objectives:**\n",
    "* list popular languages for Data Science\n",
    "* list commonly used libraries used by Data science\n",
    "* list Data Science Tools"
   ]
  },
  {
   "cell_type": "markdown",
   "id": "cd143d32-abdb-479b-b47c-372d7271e9ab",
   "metadata": {},
   "source": [
    "Some of the popular languages that Data Scientists use are:\n",
    "1. Python\n",
    "2. Java\n",
    "3. C++"
   ]
  },
  {
   "cell_type": "markdown",
   "id": "06112fe7-a749-4ce7-93ed-4aed6061e3c5",
   "metadata": {},
   "source": [
    "Some of the commonly used libraries used by Data Scientists include:\n",
    "1. Pandas.\n",
    "2. NumPy.\n",
    "3. SciPy.\n",
    "4. Matplotlib."
   ]
  },
  {
   "cell_type": "markdown",
   "id": "72e16707-b0d6-4e0f-a8f2-eee6ac3710e7",
   "metadata": {},
   "source": [
    "|Data Scince Tools|\n",
    "|-----------------|\n",
    "|Jupyter Notebooks|\n",
    "|Rstudio|\n",
    "|Spyder|"
   ]
  },
  {
   "cell_type": "markdown",
   "id": "a1fa7b5c-3d7f-4060-b6d3-57252a97c911",
   "metadata": {},
   "source": [
    "### Below are a few examples of evaluating arithmetic expressions in Python."
   ]
  },
  {
   "cell_type": "code",
   "execution_count": 1,
   "id": "0cc8084c-0251-439a-afb6-c40510f25c9e",
   "metadata": {},
   "outputs": [
    {
     "data": {
      "text/plain": [
       "17"
      ]
     },
     "execution_count": 1,
     "metadata": {},
     "output_type": "execute_result"
    }
   ],
   "source": [
    "# This is a simple arithmetic expression to mutiply then add integers\n",
    "(3*4)+5"
   ]
  },
  {
   "cell_type": "code",
   "execution_count": 7,
   "id": "5f8a8141-0a0c-42bc-ae68-9c24ee1aa287",
   "metadata": {},
   "outputs": [
    {
     "data": {
      "text/plain": [
       "(3, 20)"
      ]
     },
     "execution_count": 7,
     "metadata": {},
     "output_type": "execute_result"
    }
   ],
   "source": [
    "# This will convert 200 minutes to hours by diving by 60\n",
    "divmod(200, 60)"
   ]
  },
  {
   "cell_type": "markdown",
   "id": "5677c959-6cb7-4087-8b94-6e040914e3fb",
   "metadata": {},
   "source": [
    "## Author\n",
    "Khadija Elhafiane"
   ]
  }
 ],
 "metadata": {
  "kernelspec": {
   "display_name": "Python 3 (ipykernel)",
   "language": "python",
   "name": "python3"
  },
  "language_info": {
   "codemirror_mode": {
    "name": "ipython",
    "version": 3
   },
   "file_extension": ".py",
   "mimetype": "text/x-python",
   "name": "python",
   "nbconvert_exporter": "python",
   "pygments_lexer": "ipython3",
   "version": "3.12.8"
  }
 },
 "nbformat": 4,
 "nbformat_minor": 5
}
